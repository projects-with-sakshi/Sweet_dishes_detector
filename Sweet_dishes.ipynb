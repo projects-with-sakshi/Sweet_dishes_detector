{
  "nbformat": 4,
  "nbformat_minor": 0,
  "metadata": {
    "colab": {
      "provenance": [],
      "authorship_tag": "ABX9TyO7bTFICC1Tv02rc53RYbZS",
      "include_colab_link": true
    },
    "kernelspec": {
      "name": "python3",
      "display_name": "Python 3"
    },
    "language_info": {
      "name": "python"
    }
  },
  "cells": [
    {
      "cell_type": "markdown",
      "metadata": {
        "id": "view-in-github",
        "colab_type": "text"
      },
      "source": [
        "<a href=\"https://colab.research.google.com/github/projects-with-sakshi/Sweet_dishes_detector/blob/main/Sweet_dishes.ipynb\" target=\"_parent\"><img src=\"https://colab.research.google.com/assets/colab-badge.svg\" alt=\"Open In Colab\"/></a>"
      ]
    },
    {
      "cell_type": "code",
      "source": [
        "from google.colab import drive\n",
        "drive.mount('/content/drive')"
      ],
      "metadata": {
        "colab": {
          "base_uri": "https://localhost:8080/"
        },
        "id": "bjEiYPBLp2tC",
        "outputId": "6d6b7f4d-8372-4872-f722-1eebcfb2ca95"
      },
      "execution_count": 37,
      "outputs": [
        {
          "output_type": "stream",
          "name": "stdout",
          "text": [
            "Drive already mounted at /content/drive; to attempt to forcibly remount, call drive.mount(\"/content/drive\", force_remount=True).\n"
          ]
        }
      ]
    },
    {
      "cell_type": "code",
      "source": [
        "from google.colab import auth\n",
        "auth.authenticate_user()"
      ],
      "metadata": {
        "id": "KJQHGjSMMS20"
      },
      "execution_count": 38,
      "outputs": []
    },
    {
      "cell_type": "code",
      "source": [
        "from google.colab import drive\n",
        "drive.mount('/content/drive')"
      ],
      "metadata": {
        "id": "cyvgitJtMS4X",
        "colab": {
          "base_uri": "https://localhost:8080/"
        },
        "outputId": "61575a4e-c4d8-4123-d760-151ca06e4d20"
      },
      "execution_count": 39,
      "outputs": [
        {
          "output_type": "stream",
          "name": "stdout",
          "text": [
            "Drive already mounted at /content/drive; to attempt to forcibly remount, call drive.mount(\"/content/drive\", force_remount=True).\n"
          ]
        }
      ]
    },
    {
      "cell_type": "markdown",
      "source": [
        "Importing Datasets"
      ],
      "metadata": {
        "id": "SdPIqsWBM7Ga"
      }
    },
    {
      "cell_type": "code",
      "source": [
        "import numpy as np\n",
        "import tensorflow as tf\n",
        "from keras.preprocessing.image import ImageDataGenerator\n",
        "import matplotlib.pyplot as plt\n"
      ],
      "metadata": {
        "id": "PdgiXJ1GNBRr"
      },
      "execution_count": 40,
      "outputs": []
    },
    {
      "cell_type": "markdown",
      "source": [
        "# Data Preprocessing"
      ],
      "metadata": {
        "id": "UjPfyy3IOC2y"
      }
    },
    {
      "cell_type": "code",
      "source": [
        "training_set=tf.keras.utils.image_dataset_from_directory(\n",
        "    '/content/drive/MyDrive/Sweet_dishes dataset/Train',\n",
        "    labels='inferred',\n",
        "    label_mode='categorical',\n",
        "    class_names=None,\n",
        "    color_mode='rgb',\n",
        "    batch_size=9,\n",
        "    image_size=(64,64),\n",
        "    shuffle=True,\n",
        "    seed=None,\n",
        "    validation_split=None,\n",
        "    subset=None,\n",
        "    interpolation='bilinear',\n",
        "    follow_links=False,\n",
        "    crop_to_aspect_ratio=False\n",
        "    )"
      ],
      "metadata": {
        "colab": {
          "base_uri": "https://localhost:8080/"
        },
        "id": "lpAkQj3LNBm9",
        "outputId": "ca235f9e-b520-47c4-a040-f6d316ab5554"
      },
      "execution_count": 58,
      "outputs": [
        {
          "output_type": "stream",
          "name": "stdout",
          "text": [
            "Found 220 files belonging to 9 classes.\n"
          ]
        }
      ]
    },
    {
      "cell_type": "markdown",
      "source": [
        "## Validation Image Preprocessing"
      ],
      "metadata": {
        "id": "fsBak0YJmU0a"
      }
    },
    {
      "cell_type": "code",
      "source": [
        "Validation_set=tf.keras.utils.image_dataset_from_directory(\n",
        "    '/content/drive/MyDrive/Sweet_dishes dataset/Validation',\n",
        "    labels='inferred',\n",
        "    label_mode='categorical',\n",
        "    class_names=None,\n",
        "    color_mode='rgb',\n",
        "    batch_size=7,\n",
        "    image_size=(64,64),\n",
        "    shuffle=True,\n",
        "    seed=None,\n",
        "    validation_split=None,\n",
        "    subset=None,\n",
        "    interpolation='bilinear',\n",
        "    follow_links=False,\n",
        "    crop_to_aspect_ratio=False\n",
        "    )\n"
      ],
      "metadata": {
        "colab": {
          "base_uri": "https://localhost:8080/"
        },
        "id": "b6rK_y3dmbp3",
        "outputId": "2c0834dc-8a41-431b-d160-2fe0454303e6"
      },
      "execution_count": 59,
      "outputs": [
        {
          "output_type": "stream",
          "name": "stdout",
          "text": [
            "Found 63 files belonging to 9 classes.\n"
          ]
        }
      ]
    },
    {
      "cell_type": "markdown",
      "source": [
        "# Building Model\n"
      ],
      "metadata": {
        "id": "TrtfKppL-oEc"
      }
    },
    {
      "cell_type": "code",
      "source": [
        "cnn=tf.keras.models.Sequential()"
      ],
      "metadata": {
        "id": "2s6G7qTU9FRN"
      },
      "execution_count": 60,
      "outputs": []
    },
    {
      "cell_type": "markdown",
      "source": [
        "# Building Convolution Layer"
      ],
      "metadata": {
        "id": "Wkmosfoa-upF"
      }
    },
    {
      "cell_type": "code",
      "source": [
        "cnn.add(tf.keras.layers.Conv2D(filters=32,kernel_size=3,activation='relu',input_shape=[64,64,3]))\n",
        "cnn.add(tf.keras.layers.Conv2D(filters=32,kernel_size=3,activation='relu'))\n",
        "cnn.add(tf.keras.layers.MaxPool2D(pool_size=2,strides=2))"
      ],
      "metadata": {
        "id": "sGuQBotb9MR9"
      },
      "execution_count": 61,
      "outputs": []
    },
    {
      "cell_type": "code",
      "source": [
        "cnn.add(tf.keras.layers.Conv2D(filters=64,kernel_size=3,activation='relu'))\n",
        "cnn.add(tf.keras.layers.Conv2D(filters=64,kernel_size=3,activation='relu'))\n",
        "cnn.add(tf.keras.layers.MaxPool2D(pool_size=2,strides=2))"
      ],
      "metadata": {
        "id": "TEu2G2CZAVNj"
      },
      "execution_count": 62,
      "outputs": []
    },
    {
      "cell_type": "code",
      "source": [
        "cnn.add(tf.keras.layers.Flatten())"
      ],
      "metadata": {
        "id": "LGjhnx3q9Ntq"
      },
      "execution_count": 63,
      "outputs": []
    },
    {
      "cell_type": "code",
      "source": [
        "cnn.add(tf.keras.layers.Dense(units=512,activation='relu'))"
      ],
      "metadata": {
        "id": "vNj3mji3q4p_"
      },
      "execution_count": 64,
      "outputs": []
    },
    {
      "cell_type": "code",
      "source": [
        "cnn.add(tf.keras.layers.Dense(units=256,activation='relu'))"
      ],
      "metadata": {
        "id": "z2DsurmdrGDQ"
      },
      "execution_count": 48,
      "outputs": []
    },
    {
      "cell_type": "code",
      "source": [
        "cnn.add(tf.keras.layers.Dropout(0.5))      #To avoid overfitting"
      ],
      "metadata": {
        "id": "W2m3e1vU9NDi"
      },
      "execution_count": 65,
      "outputs": []
    },
    {
      "cell_type": "code",
      "source": [
        "# This is our output layer\n",
        "cnn.add(tf.keras.layers.Dense(units=9,activation='softmax'))"
      ],
      "metadata": {
        "id": "P2iGbnCRA7OG"
      },
      "execution_count": 66,
      "outputs": []
    },
    {
      "cell_type": "markdown",
      "source": [
        "# Compiling and Training Phase\n"
      ],
      "metadata": {
        "id": "b3UUtHoqC6BD"
      }
    },
    {
      "cell_type": "code",
      "source": [
        "cnn.compile(optimizer='adam',loss='categorical_crossentropy',metrics=['accuracy'])"
      ],
      "metadata": {
        "id": "-UatNunGA7PX"
      },
      "execution_count": 67,
      "outputs": []
    },
    {
      "cell_type": "code",
      "source": [
        "cnn.summary()"
      ],
      "metadata": {
        "colab": {
          "base_uri": "https://localhost:8080/"
        },
        "id": "ELnGIzDCngqM",
        "outputId": "1e00adb0-f645-4c19-a20c-33031bc8ed54"
      },
      "execution_count": 68,
      "outputs": [
        {
          "output_type": "stream",
          "name": "stdout",
          "text": [
            "Model: \"sequential_2\"\n",
            "_________________________________________________________________\n",
            " Layer (type)                Output Shape              Param #   \n",
            "=================================================================\n",
            " conv2d_8 (Conv2D)           (None, 62, 62, 32)        896       \n",
            "                                                                 \n",
            " conv2d_9 (Conv2D)           (None, 60, 60, 32)        9248      \n",
            "                                                                 \n",
            " max_pooling2d_4 (MaxPoolin  (None, 30, 30, 32)        0         \n",
            " g2D)                                                            \n",
            "                                                                 \n",
            " conv2d_10 (Conv2D)          (None, 28, 28, 64)        18496     \n",
            "                                                                 \n",
            " conv2d_11 (Conv2D)          (None, 26, 26, 64)        36928     \n",
            "                                                                 \n",
            " max_pooling2d_5 (MaxPoolin  (None, 13, 13, 64)        0         \n",
            " g2D)                                                            \n",
            "                                                                 \n",
            " flatten_2 (Flatten)         (None, 10816)             0         \n",
            "                                                                 \n",
            " dense_6 (Dense)             (None, 512)               5538304   \n",
            "                                                                 \n",
            " dropout_2 (Dropout)         (None, 512)               0         \n",
            "                                                                 \n",
            " dense_7 (Dense)             (None, 9)                 4617      \n",
            "                                                                 \n",
            "=================================================================\n",
            "Total params: 5608489 (21.39 MB)\n",
            "Trainable params: 5608489 (21.39 MB)\n",
            "Non-trainable params: 0 (0.00 Byte)\n",
            "_________________________________________________________________\n"
          ]
        }
      ]
    },
    {
      "cell_type": "code",
      "source": [
        "training_history = cnn.fit(x=training_set,validation_data=Validation_set,epochs=32)"
      ],
      "metadata": {
        "colab": {
          "base_uri": "https://localhost:8080/"
        },
        "id": "FQzHfL4-A7TY",
        "outputId": "e3c27ca3-5795-4db6-8325-d8bcbd066876"
      },
      "execution_count": 69,
      "outputs": [
        {
          "output_type": "stream",
          "name": "stdout",
          "text": [
            "Epoch 1/32\n",
            "25/25 [==============================] - 9s 314ms/step - loss: 21.4643 - accuracy: 0.1182 - val_loss: 2.1808 - val_accuracy: 0.1587\n",
            "Epoch 2/32\n",
            "25/25 [==============================] - 7s 270ms/step - loss: 2.1003 - accuracy: 0.2500 - val_loss: 2.0144 - val_accuracy: 0.1270\n",
            "Epoch 3/32\n",
            "25/25 [==============================] - 6s 230ms/step - loss: 2.0179 - accuracy: 0.2591 - val_loss: 1.9185 - val_accuracy: 0.1429\n",
            "Epoch 4/32\n",
            "25/25 [==============================] - 6s 238ms/step - loss: 1.8794 - accuracy: 0.3045 - val_loss: 1.6237 - val_accuracy: 0.3810\n",
            "Epoch 5/32\n",
            "25/25 [==============================] - 7s 282ms/step - loss: 1.8224 - accuracy: 0.3455 - val_loss: 2.0421 - val_accuracy: 0.2540\n",
            "Epoch 6/32\n",
            "25/25 [==============================] - 6s 228ms/step - loss: 2.0103 - accuracy: 0.3227 - val_loss: 1.9005 - val_accuracy: 0.2540\n",
            "Epoch 7/32\n",
            "25/25 [==============================] - 8s 294ms/step - loss: 1.8657 - accuracy: 0.3591 - val_loss: 1.8883 - val_accuracy: 0.2857\n",
            "Epoch 8/32\n",
            "25/25 [==============================] - 8s 295ms/step - loss: 1.8024 - accuracy: 0.4091 - val_loss: 1.6666 - val_accuracy: 0.4127\n",
            "Epoch 9/32\n",
            "25/25 [==============================] - 7s 251ms/step - loss: 1.4943 - accuracy: 0.4773 - val_loss: 1.2728 - val_accuracy: 0.4603\n",
            "Epoch 10/32\n",
            "25/25 [==============================] - 8s 311ms/step - loss: 1.3954 - accuracy: 0.4455 - val_loss: 1.1004 - val_accuracy: 0.5397\n",
            "Epoch 11/32\n",
            "25/25 [==============================] - 7s 253ms/step - loss: 1.3231 - accuracy: 0.5273 - val_loss: 0.9818 - val_accuracy: 0.5238\n",
            "Epoch 12/32\n",
            "25/25 [==============================] - 6s 237ms/step - loss: 1.2304 - accuracy: 0.5409 - val_loss: 1.0498 - val_accuracy: 0.5873\n",
            "Epoch 13/32\n",
            "25/25 [==============================] - 8s 288ms/step - loss: 1.1564 - accuracy: 0.5500 - val_loss: 0.9099 - val_accuracy: 0.6349\n",
            "Epoch 14/32\n",
            "25/25 [==============================] - 8s 310ms/step - loss: 1.0578 - accuracy: 0.5864 - val_loss: 0.7512 - val_accuracy: 0.8095\n",
            "Epoch 15/32\n",
            "25/25 [==============================] - 6s 243ms/step - loss: 1.1391 - accuracy: 0.5864 - val_loss: 1.2565 - val_accuracy: 0.5397\n",
            "Epoch 16/32\n",
            "25/25 [==============================] - 6s 249ms/step - loss: 1.2194 - accuracy: 0.5864 - val_loss: 0.7129 - val_accuracy: 0.7778\n",
            "Epoch 17/32\n",
            "25/25 [==============================] - 7s 257ms/step - loss: 0.8552 - accuracy: 0.6409 - val_loss: 0.4829 - val_accuracy: 0.8413\n",
            "Epoch 18/32\n",
            "25/25 [==============================] - 6s 229ms/step - loss: 0.7651 - accuracy: 0.7091 - val_loss: 0.4401 - val_accuracy: 0.8730\n",
            "Epoch 19/32\n",
            "25/25 [==============================] - 8s 312ms/step - loss: 0.7207 - accuracy: 0.7000 - val_loss: 0.6217 - val_accuracy: 0.7937\n",
            "Epoch 20/32\n",
            "25/25 [==============================] - 8s 310ms/step - loss: 0.6349 - accuracy: 0.7455 - val_loss: 0.4653 - val_accuracy: 0.8413\n",
            "Epoch 21/32\n",
            "25/25 [==============================] - 6s 245ms/step - loss: 0.7004 - accuracy: 0.7409 - val_loss: 0.4766 - val_accuracy: 0.8254\n",
            "Epoch 22/32\n",
            "25/25 [==============================] - 6s 225ms/step - loss: 0.6602 - accuracy: 0.7409 - val_loss: 0.5026 - val_accuracy: 0.8889\n",
            "Epoch 23/32\n",
            "25/25 [==============================] - 8s 315ms/step - loss: 0.5633 - accuracy: 0.7682 - val_loss: 0.2975 - val_accuracy: 0.8730\n",
            "Epoch 24/32\n",
            "25/25 [==============================] - 6s 247ms/step - loss: 0.5410 - accuracy: 0.7318 - val_loss: 0.3737 - val_accuracy: 0.8254\n",
            "Epoch 25/32\n",
            "25/25 [==============================] - 6s 228ms/step - loss: 0.5261 - accuracy: 0.7909 - val_loss: 0.3425 - val_accuracy: 0.8571\n",
            "Epoch 26/32\n",
            "25/25 [==============================] - 7s 284ms/step - loss: 0.6522 - accuracy: 0.7727 - val_loss: 0.2007 - val_accuracy: 0.9048\n",
            "Epoch 27/32\n",
            "25/25 [==============================] - 8s 303ms/step - loss: 0.6479 - accuracy: 0.7227 - val_loss: 0.2918 - val_accuracy: 0.8254\n",
            "Epoch 28/32\n",
            "25/25 [==============================] - 7s 272ms/step - loss: 0.4409 - accuracy: 0.7682 - val_loss: 0.2077 - val_accuracy: 0.9365\n",
            "Epoch 29/32\n",
            "25/25 [==============================] - 8s 315ms/step - loss: 0.4595 - accuracy: 0.7636 - val_loss: 0.2156 - val_accuracy: 0.8730\n",
            "Epoch 30/32\n",
            "25/25 [==============================] - 7s 251ms/step - loss: 0.4324 - accuracy: 0.7591 - val_loss: 0.2223 - val_accuracy: 0.8889\n",
            "Epoch 31/32\n",
            "25/25 [==============================] - 8s 305ms/step - loss: 0.4193 - accuracy: 0.7773 - val_loss: 0.2096 - val_accuracy: 0.8889\n",
            "Epoch 32/32\n",
            "25/25 [==============================] - 6s 222ms/step - loss: 0.3832 - accuracy: 0.7636 - val_loss: 0.1783 - val_accuracy: 0.9365\n"
          ]
        }
      ]
    },
    {
      "cell_type": "code",
      "source": [
        "#Training set Accuracy\n",
        "train_loss, train_acc = cnn.evaluate(training_set)\n",
        "print('Training accuracy:', train_acc)"
      ],
      "metadata": {
        "colab": {
          "base_uri": "https://localhost:8080/"
        },
        "id": "YdScg8lkDHf6",
        "outputId": "758b5012-637a-4ecd-f130-5cf35af7c8cc"
      },
      "execution_count": 70,
      "outputs": [
        {
          "output_type": "stream",
          "name": "stdout",
          "text": [
            "25/25 [==============================] - 2s 52ms/step - loss: 0.3162 - accuracy: 0.8136\n",
            "Training accuracy: 0.8136363625526428\n"
          ]
        }
      ]
    },
    {
      "cell_type": "code",
      "source": [
        "#Validation set Accuracy\n",
        "val_loss, val_acc = cnn.evaluate(Validation_set)\n",
        "print('Validation accuracy:', val_acc)"
      ],
      "metadata": {
        "colab": {
          "base_uri": "https://localhost:8080/"
        },
        "id": "uBa9KAM5DRiQ",
        "outputId": "2953741c-4516-4f4d-acc7-69116f84ce03"
      },
      "execution_count": 71,
      "outputs": [
        {
          "output_type": "stream",
          "name": "stdout",
          "text": [
            "9/9 [==============================] - 1s 33ms/step - loss: 0.1783 - accuracy: 0.9365\n",
            "Validation accuracy: 0.9365079402923584\n"
          ]
        }
      ]
    },
    {
      "cell_type": "markdown",
      "source": [
        "# Saving Model"
      ],
      "metadata": {
        "id": "D-u5NDMSPFkE"
      }
    },
    {
      "cell_type": "code",
      "source": [
        "cnn.save('trainedmodel.h5')"
      ],
      "metadata": {
        "colab": {
          "base_uri": "https://localhost:8080/"
        },
        "id": "juwhehF8Davv",
        "outputId": "3625b2dd-c06f-435c-ea3e-90358ce7ad6f"
      },
      "execution_count": 72,
      "outputs": [
        {
          "output_type": "stream",
          "name": "stderr",
          "text": [
            "/usr/local/lib/python3.10/dist-packages/keras/src/engine/training.py:3103: UserWarning: You are saving your model as an HDF5 file via `model.save()`. This file format is considered legacy. We recommend using instead the native Keras format, e.g. `model.save('my_model.keras')`.\n",
            "  saving_api.save_model(\n"
          ]
        }
      ]
    },
    {
      "cell_type": "code",
      "source": [
        "training_history.history"
      ],
      "metadata": {
        "colab": {
          "base_uri": "https://localhost:8080/"
        },
        "id": "ccr3rH8Iw3DE",
        "outputId": "79c7df3e-4100-4cec-9ade-b71b857822cb"
      },
      "execution_count": 73,
      "outputs": [
        {
          "output_type": "execute_result",
          "data": {
            "text/plain": [
              "{'loss': [21.464313507080078,\n",
              "  2.100348711013794,\n",
              "  2.0178937911987305,\n",
              "  1.8793598413467407,\n",
              "  1.8223800659179688,\n",
              "  2.0103487968444824,\n",
              "  1.8657448291778564,\n",
              "  1.8023608922958374,\n",
              "  1.4942761659622192,\n",
              "  1.395397663116455,\n",
              "  1.3230581283569336,\n",
              "  1.230407476425171,\n",
              "  1.1563795804977417,\n",
              "  1.057839035987854,\n",
              "  1.139095425605774,\n",
              "  1.2193994522094727,\n",
              "  0.8552210927009583,\n",
              "  0.7650786638259888,\n",
              "  0.7207196354866028,\n",
              "  0.6349284648895264,\n",
              "  0.7004135251045227,\n",
              "  0.6602482795715332,\n",
              "  0.5632562637329102,\n",
              "  0.5409949421882629,\n",
              "  0.5261259078979492,\n",
              "  0.6522436141967773,\n",
              "  0.6479499340057373,\n",
              "  0.44093263149261475,\n",
              "  0.45952513813972473,\n",
              "  0.4324450194835663,\n",
              "  0.4193181097507477,\n",
              "  0.383205384016037],\n",
              " 'accuracy': [0.11818181723356247,\n",
              "  0.25,\n",
              "  0.2590909004211426,\n",
              "  0.30454546213150024,\n",
              "  0.34545454382896423,\n",
              "  0.3227272629737854,\n",
              "  0.3590908944606781,\n",
              "  0.40909090638160706,\n",
              "  0.47727271914482117,\n",
              "  0.44545453786849976,\n",
              "  0.5272727012634277,\n",
              "  0.5409091114997864,\n",
              "  0.550000011920929,\n",
              "  0.5863636136054993,\n",
              "  0.5863636136054993,\n",
              "  0.5863636136054993,\n",
              "  0.6409090757369995,\n",
              "  0.7090908885002136,\n",
              "  0.699999988079071,\n",
              "  0.7454545497894287,\n",
              "  0.7409090995788574,\n",
              "  0.7409090995788574,\n",
              "  0.7681818008422852,\n",
              "  0.7318181991577148,\n",
              "  0.7909091114997864,\n",
              "  0.7727272510528564,\n",
              "  0.7227272987365723,\n",
              "  0.7681818008422852,\n",
              "  0.7636363506317139,\n",
              "  0.7590909004211426,\n",
              "  0.7772727012634277,\n",
              "  0.7636363506317139],\n",
              " 'val_loss': [2.180814743041992,\n",
              "  2.0143933296203613,\n",
              "  1.9185476303100586,\n",
              "  1.6236701011657715,\n",
              "  2.042079448699951,\n",
              "  1.9005457162857056,\n",
              "  1.8882921934127808,\n",
              "  1.6666040420532227,\n",
              "  1.2728188037872314,\n",
              "  1.1004236936569214,\n",
              "  0.9817515015602112,\n",
              "  1.0497994422912598,\n",
              "  0.9099266529083252,\n",
              "  0.7511999607086182,\n",
              "  1.2565244436264038,\n",
              "  0.7128867506980896,\n",
              "  0.4829411208629608,\n",
              "  0.4400750696659088,\n",
              "  0.6216756105422974,\n",
              "  0.46531161665916443,\n",
              "  0.47659048438072205,\n",
              "  0.5025999546051025,\n",
              "  0.297537624835968,\n",
              "  0.3737320601940155,\n",
              "  0.34251031279563904,\n",
              "  0.20065589249134064,\n",
              "  0.2917834520339966,\n",
              "  0.20768623054027557,\n",
              "  0.21556951105594635,\n",
              "  0.22230099141597748,\n",
              "  0.209555983543396,\n",
              "  0.17830637097358704],\n",
              " 'val_accuracy': [0.1587301641702652,\n",
              "  0.1269841343164444,\n",
              "  0.1428571492433548,\n",
              "  0.380952388048172,\n",
              "  0.2539682686328888,\n",
              "  0.2539682686328888,\n",
              "  0.2857142984867096,\n",
              "  0.4126984179019928,\n",
              "  0.460317462682724,\n",
              "  0.5396825671195984,\n",
              "  0.523809552192688,\n",
              "  0.5873016119003296,\n",
              "  0.6349206566810608,\n",
              "  0.8095238208770752,\n",
              "  0.5396825671195984,\n",
              "  0.7777777910232544,\n",
              "  0.841269850730896,\n",
              "  0.8730158805847168,\n",
              "  0.7936508059501648,\n",
              "  0.841269850730896,\n",
              "  0.8253968358039856,\n",
              "  0.8888888955116272,\n",
              "  0.8730158805847168,\n",
              "  0.8253968358039856,\n",
              "  0.8571428656578064,\n",
              "  0.9047619104385376,\n",
              "  0.8253968358039856,\n",
              "  0.9365079402923584,\n",
              "  0.8730158805847168,\n",
              "  0.8888888955116272,\n",
              "  0.8888888955116272,\n",
              "  0.9365079402923584]}"
            ]
          },
          "metadata": {},
          "execution_count": 73
        }
      ]
    },
    {
      "cell_type": "code",
      "source": [
        "#Recording history\n",
        "import json\n",
        "with open('training_hist.json','w')as f:\n",
        "  json.dump(training_history.history,f)"
      ],
      "metadata": {
        "id": "GRfvU4JqDa4Y"
      },
      "execution_count": 74,
      "outputs": []
    },
    {
      "cell_type": "code",
      "source": [
        "print(training_history.history.keys())"
      ],
      "metadata": {
        "colab": {
          "base_uri": "https://localhost:8080/"
        },
        "id": "1AU-QFoSDbAq",
        "outputId": "58092b39-1c18-47e6-bf34-16fbf1d80c94"
      },
      "execution_count": 75,
      "outputs": [
        {
          "output_type": "stream",
          "name": "stdout",
          "text": [
            "dict_keys(['loss', 'accuracy', 'val_loss', 'val_accuracy'])\n"
          ]
        }
      ]
    },
    {
      "cell_type": "markdown",
      "source": [
        "# Calculating accuracy of Model Achieved on Validation set"
      ],
      "metadata": {
        "id": "nKbMyhfQQ8wD"
      }
    },
    {
      "cell_type": "code",
      "source": [
        "print(\"Validation set accuracy : {} %\".format(training_history.history['val_accuracy'][-1]*100))"
      ],
      "metadata": {
        "colab": {
          "base_uri": "https://localhost:8080/"
        },
        "id": "J_c3-UjERHss",
        "outputId": "659f6a9a-45b4-4faa-fe77-6c9d1bd966b0"
      },
      "execution_count": 76,
      "outputs": [
        {
          "output_type": "stream",
          "name": "stdout",
          "text": [
            "Validation set accuracy : 93.65079402923584 %\n"
          ]
        }
      ]
    },
    {
      "cell_type": "markdown",
      "source": [
        "# Accuracy Visualisation"
      ],
      "metadata": {
        "id": "kiQrm3iUiQzg"
      }
    },
    {
      "cell_type": "markdown",
      "source": [
        "# Training Visualisation"
      ],
      "metadata": {
        "id": "iRDVxz4diYk-"
      }
    },
    {
      "cell_type": "code",
      "source": [
        "epochs=[i for i in range(1,33)]\n",
        "plt.plot(epochs,training_history.history['accuracy'],color='red')\n",
        "plt.xlabel('No. of  Epochs')\n",
        "plt.ylabel('Training Accuracy')\n",
        "plt.title('Visualisation of training accuracy result')\n",
        "plt.show()"
      ],
      "metadata": {
        "colab": {
          "base_uri": "https://localhost:8080/",
          "height": 472
        },
        "id": "vt5b80-sRHva",
        "outputId": "4a7df45d-682f-424d-ff99-d14d7d1ed525"
      },
      "execution_count": 77,
      "outputs": [
        {
          "output_type": "display_data",
          "data": {
            "text/plain": [
              "<Figure size 640x480 with 1 Axes>"
            ],
            "image/png": "[encoded data removed]"
          },
          "metadata": {}
        }
      ]
    },
    {
      "cell_type": "markdown",
      "source": [
        "# Validation Accuracy"
      ],
      "metadata": {
        "id": "f_N8txJXq3gv"
      }
    },
    {
      "cell_type": "code",
      "source": [
        "plt.plot(epochs,training_history.history['val_accuracy'],color='blue')\n",
        "plt.xlabel('No. of Epochs')\n",
        "plt.ylabel('Validation Accuracy')\n",
        "plt.title('Visualisation of validation accuracy result')\n",
        "plt.show()"
      ],
      "metadata": {
        "colab": {
          "base_uri": "https://localhost:8080/",
          "height": 472
        },
        "id": "lhglBW7Bq6mf",
        "outputId": "b8a0dcd3-775e-487b-9e56-1e5de246648d"
      },
      "execution_count": 78,
      "outputs": [
        {
          "output_type": "display_data",
          "data": {
            "text/plain": [
              "<Figure size 640x480 with 1 Axes>"
            ],
            "image/png": "[encoded data removed]"
          },
          "metadata": {}
        }
      ]
    },
    {
      "cell_type": "markdown",
      "source": [
        "# Test Set Evaluation"
      ],
      "metadata": {
        "id": "HJ9_LKTM5Igz"
      }
    },
    {
      "cell_type": "code",
      "source": [
        "test_set=tf.keras.utils.image_dataset_from_directory(\n",
        "    '/content/drive/MyDrive/Sweet_dishes dataset/Test',\n",
        "    labels='inferred',\n",
        "    label_mode='categorical',\n",
        "    class_names=None,\n",
        "    color_mode='rgb',\n",
        "    batch_size=32,\n",
        "    image_size=(64,64),\n",
        "    shuffle=True,\n",
        "    seed=None,\n",
        "    validation_split=None,\n",
        "    subset=None,\n",
        "    interpolation='bilinear',\n",
        "    follow_links=False,\n",
        "    crop_to_aspect_ratio=False\n",
        "    )"
      ],
      "metadata": {
        "id": "KLZ82LFKq655",
        "colab": {
          "base_uri": "https://localhost:8080/"
        },
        "outputId": "8c2b1c3d-08fe-4e0c-eb7a-53ec4a81d8df"
      },
      "execution_count": 79,
      "outputs": [
        {
          "output_type": "stream",
          "name": "stdout",
          "text": [
            "Found 63 files belonging to 9 classes.\n"
          ]
        }
      ]
    },
    {
      "cell_type": "code",
      "source": [
        "test_loss,test_accuracy = cnn.evaluate(test_set)"
      ],
      "metadata": {
        "id": "w-bMvIJRq68H",
        "colab": {
          "base_uri": "https://localhost:8080/"
        },
        "outputId": "cb8112ce-cbe7-4081-ddc5-2474c7bc7000"
      },
      "execution_count": 80,
      "outputs": [
        {
          "output_type": "stream",
          "name": "stdout",
          "text": [
            "2/2 [==============================] - 6s 121ms/step - loss: 0.1783 - accuracy: 0.9365\n"
          ]
        }
      ]
    }
  ]
}